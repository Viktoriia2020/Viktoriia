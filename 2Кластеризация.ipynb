{
 "cells": [
  {
   "cell_type": "markdown",
   "metadata": {},
   "source": [
    "# Кластеризация предобработанных данных\n",
    "\n",
    "## Цель проекта \n",
    "На обезличенных данных выделить сегменты клиентов по их покупательскому поведению. Внутри одного сегмента клиенты должны быть схожи между собой. Клиенты, попавшие в разные сегменты, должны иметь существенные отличия в своих покупках в баре.\n",
    "Сегментация делается для дальнейшего маркетингового анализа, выделения привлекательных (целевых) сегментов клиентов, разработки адекватного продуктового предложения и позиционирования. \n",
    "\n",
    "## Задача проекта\n",
    "Методом кластеризации разделить клиентов на группы и описать выявленные сценарии покупательского поведения.\n",
    "\n",
    "## Данные \n",
    "Покупки клиентов бара в течение 1 месяца (Дата-фрейм получен в ноутбуке \"1Предобработка и разведочный анализ\").\n",
    "\n",
    "## Этапы работы \n",
    "\n",
    "1. Оцениваем число кластеров с помощью Метода локтя и Алгоритма DBSCAN. В качестве метрики выбираем Коэф.силуэта, т.к. мы не располагаем размеченными данными. Результат: предварительно рассматриваем версию разбиения на 2-4 кластера.\n",
    "\n",
    "2. Визуализируем кластеры. Для этого стандартизированные наблюдения размещаем на двумерной плоскости с помощью методов снижения размерности PCA и T-SNE\n",
    "\n",
    "3. Находим центры кластеризации с помощью KMeans.\n",
    "\n",
    "    3.1. Для нестандартизированных данных получаем 3 кластера, кластеры отличаются по кол-ву посещений и ARPU. Данное разбиение отражает 3 разных сценария посещения бара.\n",
    "\n",
    "    3.2. Для стандартизированных данных:  неудовлетворительный максимальный коэф.силуэта (0.407) и размытая интерпретация данных.\n",
    "\n",
    "    3.3. Для нормализованных данных: несмотря на неубедительные коэф.силуэта, кластеризация происходит с жёсткой разбивкой по полу (м/ж), что представляет интерес. Получаем 4 кластера, отличающихся по полу (м/ж) и дню недели посещения (сб - для мужчин, пт - для девушек).\n",
    "\n",
    "4. Дополнительно делаем Агломеративную и Иерархическую кластеризации. Подтверждается разбивка на 2-4 кластера.\n",
    "\n",
    "\n",
    "## Выводы:\n",
    "\n",
    "### 3 кластера отражают 3 разных сценария посещения бара (получены методом K-Means) в зависимости от количества посещений в месяц, состава компаниии, что отражается на доходности клиентов (ARPU)\n",
    "\n",
    "### 4 кластера образовались при жёстком разбиении по полу и дню недели посещения (сб - для мужчин, пт - для девушек). Получены методом K-Means для нормализованных данных."
   ]
  },
  {
   "cell_type": "code",
   "execution_count": 1,
   "metadata": {},
   "outputs": [],
   "source": [
    "import pandas as pd\n",
    "import numpy as np\n",
    "import warnings\n",
    "import matplotlib.pyplot as plt\n",
    "from sklearn.decomposition import PCA\n",
    "from sklearn.manifold import TSNE\n",
    "from sklearn.preprocessing import StandardScaler\n",
    "from sklearn.preprocessing import MinMaxScaler\n",
    "from sklearn.metrics import silhouette_score\n",
    "from sklearn.cluster import DBSCAN\n",
    "from sklearn.cluster import KMeans\n",
    "from sklearn.cluster import AgglomerativeClustering\n",
    "from sklearn.neighbors import kneighbors_graph\n",
    "from scipy.cluster.hierarchy import linkage, dendrogram\n",
    "from itertools import cycle, islice"
   ]
  },
  {
   "cell_type": "code",
   "execution_count": 3,
   "metadata": {},
   "outputs": [],
   "source": [
    "#Будем работать с тремя вариантами входных данных: исходных X, стандартизированных X1 и нормализованных X2:\n",
    "\n",
    "def load(file, num):\n",
    "    X = pd.read_excel(file)\n",
    "\n",
    "    scaler1 = StandardScaler()\n",
    "    X1 = scaler1.fit_transform(X)\n",
    "\n",
    "    scaler2 = MinMaxScaler()\n",
    "    X2 = scaler2.fit_transform(X)\n",
    "    \n",
    "    if num == 0:\n",
    "        return X\n",
    "    elif num == 1:\n",
    "        return X1\n",
    "    elif num == 2:\n",
    "        return X2"
   ]
  },
  {
   "cell_type": "code",
   "execution_count": 3,
   "metadata": {},
   "outputs": [
    {
     "data": {
      "text/plain": [
       "(15577, 35)"
      ]
     },
     "execution_count": 3,
     "metadata": {},
     "output_type": "execute_result"
    }
   ],
   "source": [
    "X=load('Data_Sept2019.xlsx', 0)\n",
    "X.shape"
   ]
  },
  {
   "cell_type": "code",
   "execution_count": 4,
   "metadata": {},
   "outputs": [],
   "source": [
    "X1=load('Data_Sept2019.xlsx', 1)\n",
    "X2=load('Data_Sept2019.xlsx', 2)"
   ]
  },
  {
   "cell_type": "markdown",
   "metadata": {},
   "source": [
    "## 1. Оцениваем число кластеров с помощью Метода локтя и Алгоритма DBSCAN"
   ]
  },
  {
   "cell_type": "code",
   "execution_count": 5,
   "metadata": {},
   "outputs": [
    {
     "data": {
      "image/png": "[encoded data removed]",
      "text/plain": [
       "<Figure size 432x288 with 1 Axes>"
      ]
     },
     "metadata": {
      "needs_background": "light"
     },
     "output_type": "display_data"
    }
   ],
   "source": [
    "sse = {}\n",
    "for k in range(1, 10):\n",
    "    kmeans = KMeans(n_clusters=k, max_iter=1000).fit(X)\n",
    "    X[\"clusters\"] = kmeans.labels_\n",
    "    sse[k] = kmeans.inertia_ # Inertia: Sum of distances of samples to their closest cluster center\n",
    "plt.figure()\n",
    "plt.plot(list(sse.keys()), list(sse.values()))\n",
    "plt.xlabel(\"Number of cluster\")\n",
    "plt.ylabel(\"SSE\")\n",
    "plt.show()"
   ]
  },
  {
   "cell_type": "markdown",
   "metadata": {},
   "source": [
    "1. МЕТОД ЛОКТЯ показывает, что после 4-х кластеров дальнейшая сегментация не даёт существенного уменьшения SSE (суммы квадратов ошибок до центра кластера).\n",
    "\n",
    "\n",
    "2. Для DBSCAN создаём список с вариантами параметра eps и перебираем этот параметр в цикле.\n",
    "    Смотрим, в каком случае коэффициент силуэта максимальный с приемлемым количеством выбросов.\n",
    "\n",
    "    Используем X2 = MinMaxScaler().fit_transform(X)\n",
    "\n",
    "    При eps=0.7 алгоритм DBSCAN выдаёт 2 примерно одинаковых кластера (коэф.силуэта = 0.589, выбросов 100 наблюдений из 15577).\n",
    "\n",
    "    В качестве метрики выбираем Коэф.силуэта, т.к. мы не располагаем размеченными данными\n",
    "\n",
    "### Итак, предварительно рассматриваем версию разбиения на 2-4 кластера. "
   ]
  },
  {
   "cell_type": "code",
   "execution_count": 6,
   "metadata": {},
   "outputs": [
    {
     "name": "stdout",
     "output_type": "stream",
     "text": [
      "[0.1, 0.15, 0.2, 0.25, 0.3, 0.35, 0.4, 0.45, 0.5, 0.55, 0.6, 0.65, 0.7, 0.75, 0.8, 0.85, 0.9, 0.95]\n"
     ]
    }
   ],
   "source": [
    "param = []\n",
    "for x in range(1,10):\n",
    "    param.append(x/10)\n",
    "    param.append(round(x/10+0.05,2))\n",
    "print(param)"
   ]
  },
  {
   "cell_type": "code",
   "execution_count": 7,
   "metadata": {},
   "outputs": [],
   "source": [
    "# Функция для расчета коэф.силуэта при использовании DBSCAN\n",
    "def dbscan_sil(low, high):\n",
    "\n",
    "    for i in param[low:high]:\n",
    "    \n",
    "        dbscan = DBSCAN(eps=i, min_samples=100)\n",
    "        dbscan.fit(X2)\n",
    "        y_pred = dbscan.labels_.astype(np.int)\n",
    "        s = silhouette_score(X=X2, labels=y_pred, metric='euclidean')\n",
    "        print('eps ', i, s)\n",
    "    \n",
    "        counts = np.unique(y_pred, return_counts=True)\n",
    "        for count in counts: \n",
    "            print(count, end='\\n')"
   ]
  },
  {
   "cell_type": "code",
   "execution_count": 8,
   "metadata": {},
   "outputs": [
    {
     "name": "stdout",
     "output_type": "stream",
     "text": [
      "eps  0.65 0.5889171856978148\n",
      "[-1  0  1]\n",
      "[ 134 7935 7508]\n",
      "eps  0.7 0.5891135536681107\n",
      "[-1  0  1]\n",
      "[ 100 7956 7521]\n"
     ]
    }
   ],
   "source": [
    "dbscan_sil(11,13)"
   ]
  },
  {
   "cell_type": "markdown",
   "metadata": {},
   "source": [
    "## 2. Визуализируем кластеры\n",
    "\n",
    "Для этого стандартизированные наблюдения размещаем на двумерной плоскости с помощью методов снижения размерности PCA, T-SNE"
   ]
  },
  {
   "cell_type": "code",
   "execution_count": 9,
   "metadata": {},
   "outputs": [
    {
     "data": {
      "text/plain": [
       "(15577, 2)"
      ]
     },
     "execution_count": 9,
     "metadata": {},
     "output_type": "execute_result"
    }
   ],
   "source": [
    "pca = PCA(n_components = 2)\n",
    "dec = pca.fit_transform(X1)\n",
    "dec.shape"
   ]
  },
  {
   "cell_type": "code",
   "execution_count": 10,
   "metadata": {},
   "outputs": [
    {
     "data": {
      "text/plain": [
       "(15577, 2)"
      ]
     },
     "execution_count": 10,
     "metadata": {},
     "output_type": "execute_result"
    }
   ],
   "source": [
    "X_embedded = TSNE(n_components=2).fit_transform(X1)\n",
    "X_embedded.shape"
   ]
  },
  {
   "cell_type": "code",
   "execution_count": 11,
   "metadata": {},
   "outputs": [
    {
     "data": {
      "image/png": "[encoded data removed]",
      "text/plain": [
       "<Figure size 432x288 with 6 Axes>"
      ]
     },
     "metadata": {},
     "output_type": "display_data"
    }
   ],
   "source": [
    "# создаём массив пар – датасета и соответствующих для него параметров алгоритма\n",
    "datasets_params_list = [\n",
    "    (dec, {'n_clusters': 2}),\n",
    "    (dec, {'n_clusters': 3}),\n",
    "    (dec, {'n_clusters': 4}),\n",
    "    (X_embedded, {'n_clusters': 2}),\n",
    "    (X_embedded, {'n_clusters': 3}),\n",
    "    (X_embedded, {'n_clusters': 4})]\n",
    "\n",
    "for i, (X, k_means_params) in enumerate(datasets_params_list, start=1):\n",
    "    X = StandardScaler().fit_transform(X)\n",
    "    k_means = KMeans(n_clusters=k_means_params['n_clusters'])\n",
    "    \n",
    "    k_means.fit(X)\n",
    "    y_pred = k_means.labels_.astype(np.int)\n",
    "\n",
    "    plt.subplot(f'23{i}')\n",
    "    plt.xticks([]); plt.yticks([])\n",
    "    colors = np.array(list(islice(cycle(['#377eb8', '#ff7f00', '#4daf4a',\n",
    "                                         '#f781bf', '#a65628', '#984ea3',\n",
    "                                         '#999999', '#e41a1c', '#dede00']),\n",
    "                                  int(max(y_pred) + 1))))\n",
    "    plt.scatter(X[:, 0], X[:, 1], color=colors[y_pred])"
   ]
  },
  {
   "cell_type": "markdown",
   "metadata": {},
   "source": [
    "1. Метод главных компонент PCA в сочетании с K-Means выдает разные по объему кластеры\n",
    "2. Метод T-SNE в сочетании с алгоритмом K-Means разбивает наблюдения примерно на равные по объему кластеры"
   ]
  },
  {
   "cell_type": "code",
   "execution_count": 12,
   "metadata": {},
   "outputs": [],
   "source": [
    "#break"
   ]
  },
  {
   "cell_type": "markdown",
   "metadata": {},
   "source": [
    "## 3. Для получения центров кластеризации используем KMeans\n",
    "\n",
    "Определим количество кластеров перебором значений от 2 до 8. Вычисляем коэф.силуэта.\n",
    "\n",
    "Определяем центры получившихся кластеров."
   ]
  },
  {
   "cell_type": "code",
   "execution_count": 13,
   "metadata": {},
   "outputs": [],
   "source": [
    "# Функция для подсчета коэф.силуэта при использовании KMeans\n",
    "def siluet(num, low, high):\n",
    "    X = load('Data_Sept2019.xlsx', num)\n",
    "    for i in range(low, high):\n",
    "        kmeans = KMeans(n_clusters=i, random_state=42)\n",
    "        kmeans.fit(X)\n",
    "        kmeans_pred = kmeans.labels_\n",
    "        s=silhouette_score(X=X, labels=kmeans_pred, metric='euclidean')\n",
    "        print('число кластеров ', i, s)    "
   ]
  },
  {
   "cell_type": "code",
   "execution_count": 14,
   "metadata": {},
   "outputs": [],
   "source": [
    "# Функция для кластеризации и нахождения центров кластеров\n",
    "def k_center(num):\n",
    "    \n",
    "    for i in range(2,5):\n",
    "        \n",
    "        df10 = pd.read_excel('Data_Sept2019.xlsx')\n",
    "        \n",
    "        if num == 0:\n",
    "            X = df10\n",
    "            \n",
    "        elif num == 1:\n",
    "            scaler1 = StandardScaler()\n",
    "            X = scaler1.fit_transform(df10)\n",
    "            \n",
    "        elif num == 2:\n",
    "            scaler2 = MinMaxScaler()\n",
    "            X = scaler2.fit_transform(df10)\n",
    "    \n",
    "        kmeans = KMeans(n_clusters=i, random_state=42)\n",
    "        # Для обучения модели K-means необходимо вызвать метод fit, передав входным параметром признаки объектов датасета:\n",
    "        kmeans.fit(X)\n",
    "        \n",
    "        # Обучив, мы можем получить центроиды кластеров:\n",
    "        if num == 0:\n",
    "            a = kmeans.cluster_centers_\n",
    "        elif num == 1:\n",
    "            a1 = kmeans.cluster_centers_\n",
    "            a = scaler1.inverse_transform(a1)    \n",
    "        elif num == 2:\n",
    "            a1 = kmeans.cluster_centers_\n",
    "            a = scaler2.inverse_transform(a1)\n",
    "\n",
    "        # Определяем, в какой кластер попал каждый из объектов:\n",
    "        b = kmeans.labels_\n",
    "\n",
    "        # Для подсчёта элементов в списке можно воспользоваться функцией numpy.unique с параметром return_counts=True:\n",
    "\n",
    "        counts = np.unique(b, return_counts=True)\n",
    "        for count in counts:\n",
    "            print(count, end=' ')\n",
    "    \n",
    "        feature_names = df10.columns.tolist()\n",
    "        for element in feature_names:\n",
    "            if element == 'Кластер K-means':\n",
    "                df10 = df10.drop(element, axis='columns')\n",
    "\n",
    "        feature_names = df10.columns\n",
    "        featureImportance = pd.DataFrame(np.round(a, 2)) \n",
    "        featureImportance.columns = feature_names\n",
    "\n",
    "        df10['Кластер K-means'] = df10.apply(lambda x: 0) \n",
    "\n",
    "        for number, i in enumerate(b):\n",
    "            df10.loc[[number],'Кластер K-means']=i\n",
    "\n",
    "        for number, i in enumerate(count):\n",
    "            featureImportance.loc[[number],'К-во']=i\n",
    "    \n",
    "        list = []\n",
    "        list.append(featureImportance.columns[-1])\n",
    "        for i in feature_names:\n",
    "            list.append(i)\n",
    "    \n",
    "        featureImportance = featureImportance[list].T\n",
    "        print(featureImportance)\n",
    "        print('\\n')"
   ]
  },
  {
   "cell_type": "markdown",
   "metadata": {},
   "source": [
    "###  3.1. Для нестандартизированных данных X:\n",
    "* При 2-х кластерах коэф.силуэта максимальный (0.715)\n",
    "* При 3-х 0.648\n",
    "* При 4-х 0.611"
   ]
  },
  {
   "cell_type": "code",
   "execution_count": 15,
   "metadata": {},
   "outputs": [
    {
     "name": "stdout",
     "output_type": "stream",
     "text": [
      "число кластеров  2 0.7149871007837191\n",
      "число кластеров  3 0.6478108014210783\n",
      "число кластеров  4 0.6109499834651366\n",
      "число кластеров  5 0.5833910629547112\n",
      "число кластеров  6 0.5691504600982025\n",
      "число кластеров  7 0.5636092762716508\n",
      "число кластеров  8 0.5548888881617569\n"
     ]
    }
   ],
   "source": [
    "siluet(0, 2, 9)"
   ]
  },
  {
   "cell_type": "code",
   "execution_count": 16,
   "metadata": {},
   "outputs": [
    {
     "name": "stdout",
     "output_type": "stream",
     "text": [
      "[0 1] [13476  2101]                             0        1\n",
      "К-во                 13476.00  2101.00\n",
      "Пол                      0.50     0.58\n",
      "ARPU                  1895.43  8026.80\n",
      "Посещений                1.25     2.57\n",
      "Коктейли для друзей      0.41     2.37\n",
      "Акции                    0.40     1.99\n",
      "Лонги                    1.01     3.71\n",
      "Пиво для друзей          0.46     1.77\n",
      "Пиво до 1л               1.83     5.09\n",
      "Сеты                     1.19     6.29\n",
      "Наборы на компанию       0.46     1.58\n",
      "Горячие блюда            0.41     1.47\n",
      "Горячие напитки          0.06     0.20\n",
      "Кальяны                  0.19     0.76\n",
      "Снэки                    0.46     1.31\n",
      "Соусы, хлеб              0.18     0.61\n",
      "Холодные напитки         0.28     1.39\n",
      "Крепкий алкоголь         0.45     3.01\n",
      "Роллы                    0.23     0.79\n",
      "Пицца                    0.13     0.44\n",
      "Супы                     0.03     0.09\n",
      "Стритфуд                 0.17     0.62\n",
      "Десерты                  0.05     0.16\n",
      "Салаты                   0.10     0.32\n",
      "Вино 125 мл              0.08     0.24\n",
      "Вино                     0.09     0.32\n",
      "Прочее                   0.02     0.08\n",
      "Напитки TO GO            0.02     0.05\n",
      "Бизнес-ланч              0.01     0.06\n",
      "1                        0.16     0.29\n",
      "2                        0.13     0.25\n",
      "3                        0.13     0.25\n",
      "4                        0.14     0.25\n",
      "5                        0.19     0.39\n",
      "6                        0.25     0.59\n",
      "7                        0.26     0.55\n",
      "\n",
      "\n",
      "[0 1 2] [11416  3595   566]                             0        1         2\n",
      "К-во                 11416.00  3595.00    566.00\n",
      "Пол                      0.50     0.55      0.62\n",
      "ARPU                  1513.03  5033.58  12442.15\n",
      "Посещений                1.18     1.88      3.65\n",
      "Коктейли для друзей      0.29     1.43      3.60\n",
      "Акции                    0.29     1.25      3.14\n",
      "Лонги                    0.83     2.49      5.22\n",
      "Пиво для друзей          0.37     1.11      2.98\n",
      "Пиво до 1л               1.62     3.42      7.97\n",
      "Сеты                     0.89     3.77      9.70\n",
      "Наборы на компанию       0.38     1.12      2.27\n",
      "Горячие блюда            0.35     0.96      2.20\n",
      "Горячие напитки          0.06     0.13      0.31\n",
      "Кальяны                  0.15     0.52      1.14\n",
      "Снэки                    0.41     0.91      1.89\n",
      "Соусы, хлеб              0.15     0.39      0.95\n",
      "Холодные напитки         0.22     0.82      2.18\n",
      "Крепкий алкоголь         0.33     1.58      5.18\n",
      "Роллы                    0.20     0.53      1.14\n",
      "Пицца                    0.11     0.31      0.59\n",
      "Супы                     0.03     0.06      0.14\n",
      "Стритфуд                 0.14     0.39      1.02\n",
      "Десерты                  0.04     0.11      0.22\n",
      "Салаты                   0.08     0.22      0.49\n",
      "Вино 125 мл              0.07     0.16      0.37\n",
      "Вино                     0.08     0.20      0.49\n",
      "Прочее                   0.02     0.05      0.14\n",
      "Напитки TO GO            0.02     0.02      0.12\n",
      "Бизнес-ланч              0.01     0.02      0.16\n",
      "1                        0.15     0.21      0.45\n",
      "2                        0.13     0.19      0.38\n",
      "3                        0.12     0.17      0.39\n",
      "4                        0.13     0.19      0.38\n",
      "5                        0.17     0.30      0.52\n",
      "6                        0.23     0.42      0.80\n",
      "7                        0.24     0.40      0.73\n",
      "\n",
      "\n",
      "[0 1 2 3] [4320 1325 9696  236]                            0        1        2         3\n",
      "К-во                 4320.00  1325.00  9696.00    236.00\n",
      "Пол                     0.53     0.58     0.49      0.60\n",
      "ARPU                 3723.47  7737.96  1272.45  15810.67\n",
      "Посещений               1.61     2.46     1.13      4.60\n",
      "Коктейли для друзей     0.96     2.29     0.22      4.70\n",
      "Акции                   0.93     1.95     0.22      3.87\n",
      "Лонги                   1.86     3.59     0.73      6.55\n",
      "Пиво для друзей         0.88     1.70     0.31      3.70\n",
      "Пиво до 1л              2.75     4.78     1.50     10.59\n",
      "Сеты                    2.67     6.08     0.69     12.32\n",
      "Наборы на компанию      0.88     1.56     0.32      2.83\n",
      "Горячие блюда           0.75     1.41     0.30      2.75\n",
      "Горячие напитки         0.09     0.18     0.06      0.42\n",
      "Кальяны                 0.41     0.76     0.12      1.20\n",
      "Снэки                   0.72     1.30     0.38      2.33\n",
      "Соусы, хлеб             0.31     0.54     0.13      1.33\n",
      "Холодные напитки        0.56     1.34     0.19      2.81\n",
      "Крепкий алкоголь        1.02     2.81     0.26      7.05\n",
      "Роллы                   0.42     0.77     0.17      1.38\n",
      "Пицца                   0.23     0.44     0.10      0.70\n",
      "Супы                    0.05     0.08     0.03      0.22\n",
      "Стритфуд                0.31     0.62     0.12      1.17\n",
      "Десерты                 0.08     0.17     0.03      0.23\n",
      "Салаты                  0.17     0.30     0.07      0.63\n",
      "Вино 125 мл             0.12     0.23     0.06      0.45\n",
      "Вино                    0.15     0.30     0.08      0.59\n",
      "Прочее                  0.03     0.09     0.01      0.14\n",
      "Напитки TO GO           0.02     0.04     0.02      0.20\n",
      "Бизнес-ланч             0.02     0.02     0.01      0.36\n",
      "1                       0.19     0.28     0.15      0.57\n",
      "2                       0.17     0.22     0.12      0.48\n",
      "3                       0.15     0.24     0.12      0.53\n",
      "4                       0.17     0.25     0.13      0.48\n",
      "5                       0.26     0.38     0.16      0.63\n",
      "6                       0.35     0.57     0.22      0.98\n",
      "7                       0.33     0.54     0.24      0.94\n",
      "\n",
      "\n"
     ]
    }
   ],
   "source": [
    "k_center(0)"
   ]
  },
  {
   "cell_type": "markdown",
   "metadata": {},
   "source": [
    "### Итак, методом K-Means для нестандартизированных данных X получаем 2, 3, 4 кластера. Кластеры отличаются по кол-ву посещений и ARPU\n",
    "\n",
    "#### При разбиении на 2 кластера средние цифры выглядят так:\n",
    "\n",
    "* 1-й кластер (13476 клиентов): Посещений 1,25 раз в месяц и ARPU 1895 руб. Пол: поровну мужчин и девушек.\n",
    "\n",
    "* 2-й кластер (2101 клиент): Посещений 2,57 раз в месяц и ARPU 8027 руб. Пол: чаще мужчины, чем девушки. \n",
    "Во 2-м кластере посещений на 1 человека в 2 раза больше, при этом непропорционально больше заказывается \"Коктейлей для друзей\"\n",
    "(куда входят 3 порции), Лонгов (=коктейлей), Пива для друзей (3 порции в наборе), Крепкий алкоголь и холодные напитки \n",
    "(к нему же), Сетов. \n",
    "Это более компанейский вариант посещения.\n",
    "\n",
    "\n",
    "#### При разбиении на 3 кластера средние цифры выглядят так:\n",
    "\n",
    "Основная масса клиентов попала в кластер 1. Сосредоточим своё внимание на более высокодоходных клиентах из кластеров 2 и 3.\n",
    "Средние цифры выглядят так:\n",
    "\n",
    "* 1-й кластер (11416 клиентов): Посещений 1,18 раз в месяц и ARPU 1513 руб. Пол: поровну мужчин и девушек.\n",
    "\n",
    "* 2-й кластер (3595 клиентов): Посещений 1,88 раз в месяц и ARPU 5034 руб. Пол: почти поровну мужчин и девушек.\n",
    "\n",
    "* 3-й кластер (566 клиентов) самый высокодоходный: Посещений 3,65 раз в месяц и ARPU 12442 руб. Пол: чаще мужчины, чем девушки. \n",
    "В 3-м кластере посещений на 1 человека в 2 раза больше, чем во 2-м, при этом непропорционально больше заказывается Сетов (алкогольных), Крепкого алкоголя и Холодных напитков к ним. А также напитков TO GO и Бизнес-Ланчей. \n",
    "Это наиболее компанейский вариант посещения, который возможен даже в дневное время (на что указывают Бизнес-Ланчи).\n",
    "\n",
    "\n",
    "### В целом, данное разбиение нестандартизированных данных на 3 кластера видится обоснованным - оно отражает 3 разных сценария посещения бара.\n",
    "\n",
    "\n",
    "#### Разбиение на 4 кластера приведено справочно.\n",
    "\n",
    "\n",
    "\n",
    "###  3.2. Теперь сделаем кластеризацию стандартизированных данных X1\n",
    "\n",
    "Число кластеров при переборе ограничим от 2-х до 4."
   ]
  },
  {
   "cell_type": "code",
   "execution_count": 17,
   "metadata": {},
   "outputs": [
    {
     "name": "stdout",
     "output_type": "stream",
     "text": [
      "число кластеров  2 0.4072168554234305\n",
      "число кластеров  3 0.23317571850059773\n",
      "число кластеров  4 0.2319750283310069\n"
     ]
    }
   ],
   "source": [
    "siluet(1, 2, 5)"
   ]
  },
  {
   "cell_type": "markdown",
   "metadata": {},
   "source": [
    "* Метод K-Means для стандартизированных данных X1 выдал 2 кластера с максимальным коэф.силуэта 0.4071. Нас это не устраивает.\n",
    "\n",
    "### 3.3. Применим K-Means для нормализованных данных X2:\n",
    "\n",
    "несмотря на неубедительные коэф.силуэта, кластеризация происходит с жёсткой разбивкой по полу (м/ж), что представляет интерес.\n"
   ]
  },
  {
   "cell_type": "code",
   "execution_count": 18,
   "metadata": {},
   "outputs": [
    {
     "name": "stdout",
     "output_type": "stream",
     "text": [
      "число кластеров  2 0.5874937870542654\n",
      "число кластеров  3 0.3862716109232294\n",
      "число кластеров  4 0.19016205939366074\n"
     ]
    }
   ],
   "source": [
    "siluet(2, 2, 5)"
   ]
  },
  {
   "cell_type": "code",
   "execution_count": 19,
   "metadata": {},
   "outputs": [
    {
     "name": "stdout",
     "output_type": "stream",
     "text": [
      "[0 1] [7561 8016]                            0        1\n",
      "К-во                 7561.00  8016.00\n",
      "Пол                     0.00     1.00\n",
      "ARPU                 2567.72  2868.34\n",
      "Посещений               1.39     1.48\n",
      "Коктейли для друзей     0.74     0.61\n",
      "Акции                   0.57     0.66\n",
      "Лонги                   1.65     1.11\n",
      "Пиво для друзей         0.45     0.81\n",
      "Пиво до 1л              1.96     2.56\n",
      "Сеты                    1.69     2.05\n",
      "Наборы на компанию      0.57     0.66\n",
      "Горячие блюда           0.56     0.55\n",
      "Горячие напитки         0.08     0.09\n",
      "Кальяны                 0.28     0.26\n",
      "Снэки                   0.58     0.58\n",
      "Соусы, хлеб             0.24     0.23\n",
      "Холодные напитки        0.39     0.47\n",
      "Крепкий алкоголь        0.58     0.99\n",
      "Роллы                   0.39     0.23\n",
      "Пицца                   0.18     0.16\n",
      "Супы                    0.04     0.04\n",
      "Стритфуд                0.21     0.25\n",
      "Десерты                 0.08     0.04\n",
      "Салаты                  0.15     0.10\n",
      "Вино 125 мл             0.12     0.08\n",
      "Вино                    0.16     0.09\n",
      "Прочее                  0.02     0.03\n",
      "Напитки TO GO           0.02     0.02\n",
      "Бизнес-ланч             0.02     0.02\n",
      "1                       0.17     0.18\n",
      "2                       0.15     0.15\n",
      "3                       0.13     0.15\n",
      "4                       0.15     0.16\n",
      "5                       0.22     0.21\n",
      "6                       0.28     0.30\n",
      "7                       0.27     0.32\n",
      "\n",
      "\n",
      "[0 1 2] [7561 5836 2180]                            0        1        2\n",
      "К-во                 7561.00  5836.00  2180.00\n",
      "Пол                     0.00     1.00     1.00\n",
      "ARPU                 2567.72  2496.82  3862.94\n",
      "Посещений               1.39     1.33     1.85\n",
      "Коктейли для друзей     0.74     0.50     0.89\n",
      "Акции                   0.57     0.75     0.43\n",
      "Лонги                   1.65     0.94     1.55\n",
      "Пиво для друзей         0.45     0.69     1.12\n",
      "Пиво до 1л              1.96     2.31     3.23\n",
      "Сеты                    1.69     1.76     2.84\n",
      "Наборы на компанию      0.57     0.59     0.84\n",
      "Горячие блюда           0.56     0.49     0.70\n",
      "Горячие напитки         0.08     0.08     0.11\n",
      "Кальяны                 0.28     0.21     0.37\n",
      "Снэки                   0.58     0.54     0.67\n",
      "Соусы, хлеб             0.24     0.21     0.28\n",
      "Холодные напитки        0.39     0.40     0.64\n",
      "Крепкий алкоголь        0.58     0.87     1.31\n",
      "Роллы                   0.39     0.20     0.30\n",
      "Пицца                   0.18     0.14     0.21\n",
      "Супы                    0.04     0.04     0.05\n",
      "Стритфуд                0.21     0.24     0.29\n",
      "Десерты                 0.08     0.04     0.05\n",
      "Салаты                  0.15     0.10     0.11\n",
      "Вино 125 мл             0.12     0.07     0.10\n",
      "Вино                    0.16     0.08     0.11\n",
      "Прочее                  0.02     0.02     0.05\n",
      "Напитки TO GO           0.02     0.02     0.03\n",
      "Бизнес-ланч             0.02     0.03     0.01\n",
      "1                       0.17     0.21     0.11\n",
      "2                       0.15     0.17     0.09\n",
      "3                       0.13     0.17     0.09\n",
      "4                       0.15     0.18     0.09\n",
      "5                       0.22     0.23     0.16\n",
      "6                       0.28     0.00     1.11\n",
      "7                       0.27     0.36     0.21\n",
      "\n",
      "\n",
      "[0 1 2 3] [1546 5836 6015 2180]                            0        1        2        3\n",
      "К-во                 1546.00  5836.00  6015.00  2180.00\n",
      "Пол                    -0.00     1.00     0.00     1.00\n",
      "ARPU                 3285.72  2496.82  2383.18  3862.94\n",
      "Посещений               1.76     1.33     1.29     1.85\n",
      "Коктейли для друзей     0.93     0.50     0.69     0.89\n",
      "Акции                   0.55     0.75     0.57     0.43\n",
      "Лонги                   1.95     0.94     1.58     1.55\n",
      "Пиво для друзей         0.65     0.69     0.40     1.12\n",
      "Пиво до 1л              2.67     2.31     1.77     3.23\n",
      "Сеты                    2.07     1.76     1.59     2.84\n",
      "Наборы на компанию      0.76     0.59     0.53     0.84\n",
      "Горячие блюда           0.69     0.49     0.53     0.70\n",
      "Горячие напитки         0.10     0.08     0.07     0.11\n",
      "Кальяны                 0.31     0.21     0.27     0.37\n",
      "Снэки                   0.77     0.54     0.53     0.67\n",
      "Соусы, хлеб             0.29     0.21     0.23     0.28\n",
      "Холодные напитки        0.48     0.40     0.37     0.64\n",
      "Крепкий алкоголь        0.80     0.87     0.53     1.31\n",
      "Роллы                   0.51     0.20     0.36     0.30\n",
      "Пицца                   0.23     0.14     0.17     0.21\n",
      "Супы                    0.07     0.04     0.03     0.05\n",
      "Стритфуд                0.28     0.24     0.20     0.29\n",
      "Десерты                 0.11     0.04     0.08     0.05\n",
      "Салаты                  0.19     0.10     0.14     0.11\n",
      "Вино 125 мл             0.16     0.07     0.12     0.10\n",
      "Вино                    0.21     0.08     0.14     0.11\n",
      "Прочее                  0.03     0.02     0.02     0.05\n",
      "Напитки TO GO           0.04     0.02     0.02     0.03\n",
      "Бизнес-ланч             0.04     0.03     0.01     0.01\n",
      "1                       0.10     0.21     0.19     0.11\n",
      "2                       0.10     0.17     0.16     0.09\n",
      "3                       0.10     0.17     0.14     0.09\n",
      "4                       0.10     0.18     0.17     0.09\n",
      "5                       1.07     0.23     0.00     0.16\n",
      "6                       0.15     0.00     0.32     1.11\n",
      "7                       0.13     0.36     0.31     0.21\n",
      "\n",
      "\n"
     ]
    }
   ],
   "source": [
    "k_center(2)"
   ]
  },
  {
   "cell_type": "markdown",
   "metadata": {},
   "source": [
    "## Итак, методом K-Means для нормализованных данных X2 рассмотрим 4 кластера, отличающихся по полу (м/ж) и дню недели для посещения (сб - для мужчин, пт - для девушек).\n",
    "\n",
    "Средние цифры выглядят так:\n",
    "\n",
    "* Для мужчин (кластеры номер 2 и 4):\n",
    "\n",
    "Количество клиентов соответственно 5836 и 2180. За 1 месяц они в среднем тратят соответственно 2497 руб. за 1,33 посещений или же 3863 руб. за 1,85 посещений. Клиенты с более высокими расходами непропорционально больше заказывают \"Коктейли для друзей\" (3 порции в одном наборе), Кальянов; меньше подпадают под Акции и меньше заказывают Бизнес-Ланчей. Это сценарий посещения в прайм-тайм в календарную субботу (это может быть также ночное время пт/сб и сб/вс).\n",
    "\n",
    "* Рассмотрим кластеры, которые сформированы девушками (номер 1 и 3):\n",
    "\n",
    "Количество клиентов соответственно 1546 и 6015. \n",
    "За 1 месяц они в среднем тратят соответственно 3286 руб. за 1,76 посещений или же 2383 руб. за 1,29 посещений.\n",
    "Клиенты с более высокими расходами непропорционально больше заказывают \"Пиво для друзей\" (3 порции в одном наборе), Крепкий алкоголь, Супы, Вино (в бутылках), Напитки TO GO (с собой), Бизнес-Ланч; меньше подпадают под Акции. Это сценарий посещения в прайм-тайм в календарную пятницу.\n",
    "\n",
    "* Если дополнительно рассмотреть разбиение на только 2 кластера (также жёсткое по полу м/ж), то можно видеть, что  у девушек выше спрос на вино, лонги (коктейли), роллы, салаты и десерты по сравнению с мужчинами, и меньше интерес к крепкому алкоголю и \"пиву для друзей\". \n",
    "\n",
    "## В целом, данное разбиение нормализованных данных на 4 кластера видится обоснованным\n"
   ]
  },
  {
   "cell_type": "code",
   "execution_count": 20,
   "metadata": {},
   "outputs": [],
   "source": [
    "#break"
   ]
  },
  {
   "cell_type": "markdown",
   "metadata": {},
   "source": [
    "# 4. Дополнительные методы\n",
    "\n",
    "\n",
    "## 4.1. Результаты Агломеративной кластеризации\n",
    "\n",
    "Максимальные коэф.силуэта без матрицы смежности / с матрицей смежности соответствуют разбиению на 2 кластера."
   ]
  },
  {
   "cell_type": "code",
   "execution_count": 21,
   "metadata": {},
   "outputs": [],
   "source": [
    "X = load('Data_Sept2019.xlsx', 0)\n",
    "X1 = load('Data_Sept2019.xlsx', 1)\n",
    "X2 = load('Data_Sept2019.xlsx', 2)"
   ]
  },
  {
   "cell_type": "code",
   "execution_count": 22,
   "metadata": {},
   "outputs": [],
   "source": [
    "list = [X,X1,X2]"
   ]
  },
  {
   "cell_type": "code",
   "execution_count": 23,
   "metadata": {},
   "outputs": [
    {
     "name": "stdout",
     "output_type": "stream",
     "text": [
      "Для массива X\n",
      "число кластеров  2 0.734307884682819\n",
      "число кластеров  3 0.6005100182126274\n",
      "число кластеров  4 0.6101046799983515\n",
      "число кластеров с матрицей смежности  2 0.734307884682819\n",
      "число кластеров с матрицей смежности  3 0.5138113171394809\n",
      "число кластеров с матрицей смежности  4 0.5180033383507094\n",
      "\n",
      "\n",
      "Для массива X1\n",
      "число кластеров  2 0.2398044034961178\n",
      "число кластеров  3 0.23847395393998883\n",
      "число кластеров  4 0.23253928465410917\n",
      "число кластеров с матрицей смежности  2 0.21399748982003344\n",
      "число кластеров с матрицей смежности  3 0.17114248605192586\n",
      "число кластеров с матрицей смежности  4 0.17147325880243158\n",
      "\n",
      "\n",
      "Для массива X2\n",
      "число кластеров  2 0.5874251001605947\n",
      "число кластеров  3 0.3859901515001356\n",
      "число кластеров  4 0.19505963438721918\n",
      "число кластеров с матрицей смежности  2 0.012857824587063785\n",
      "число кластеров с матрицей смежности  3 -0.08266696011439133\n",
      "число кластеров с матрицей смежности  4 -0.10341466843314706\n",
      "\n",
      "\n"
     ]
    }
   ],
   "source": [
    "for number, j in enumerate(list):\n",
    "    \n",
    "    if number == 0:\n",
    "        print('Для массива X')     \n",
    "    elif number == 1:\n",
    "        print('Для массива X1')\n",
    "    else:\n",
    "        print('Для массива X2')\n",
    "    \n",
    "    for i in range(2,5):\n",
    "        ac1 = AgglomerativeClustering(n_clusters=i,\n",
    "                             affinity='euclidean', # “euclidean”, “l1”, “l2”, “manhattan”, \n",
    "                                                   # “cosine”, or “precomputed”\n",
    "                             linkage='ward', # “ward”, “complete”, “average”, “single”\n",
    "                            )\n",
    "        with warnings.catch_warnings():\n",
    "            warnings.filterwarnings(\n",
    "            \"ignore\",\n",
    "                message=\"the number of connected components of the \" +\n",
    "            \"connectivity matrix is [0-9]{1,2}\" +\n",
    "            \" > 1. Completing it to avoid stopping the tree early.\",\n",
    "                category=UserWarning)\n",
    "            ac1.fit(j)\n",
    "        y_pred1 = ac1.labels_.astype(np.int)\n",
    "        s = silhouette_score(X=j, labels=y_pred1, metric='euclidean')\n",
    "            \n",
    "        print('число кластеров ', i, s)\n",
    "    \n",
    "    # строим матрицу смежности\n",
    "    # делаем матрицу смежности симметричной\n",
    "\n",
    "    connectivity = kneighbors_graph(X, n_neighbors=6, include_self=False)\n",
    "    connectivity = 0.5 * (connectivity + connectivity.T)\n",
    "\n",
    "    for i in range(2,5):\n",
    "        ac1 = AgglomerativeClustering(n_clusters=i,\n",
    "                             affinity='euclidean', # “euclidean”, “l1”, “l2”, “manhattan”, \n",
    "                                                   # “cosine”, or “precomputed”\n",
    "                             linkage='ward', connectivity=connectivity \n",
    "                            )\n",
    "        with warnings.catch_warnings():\n",
    "            warnings.filterwarnings(\n",
    "            \"ignore\",\n",
    "                message=\"the number of connected components of the \" +\n",
    "            \"connectivity matrix is [0-9]{1,2}\" +\n",
    "            \" > 1. Completing it to avoid stopping the tree early.\",\n",
    "                category=UserWarning)\n",
    "            ac1.fit(j)\n",
    "        y_pred1 = ac1.labels_.astype(np.int)\n",
    "        s = silhouette_score(X=j, labels=y_pred1, metric='euclidean')\n",
    "        print('число кластеров с матрицей смежности ', i, s)\n",
    "    print('\\n')"
   ]
  },
  {
   "cell_type": "markdown",
   "metadata": {},
   "source": [
    "## 4.2. Иерархическая кластеризация \n",
    "\n",
    "\n",
    "* Для нестандартизированных данных X получили 2-4 кластера."
   ]
  },
  {
   "cell_type": "code",
   "execution_count": 4,
   "metadata": {},
   "outputs": [],
   "source": [
    "X=load('Data_Sept2019.xlsx', 0)"
   ]
  },
  {
   "cell_type": "code",
   "execution_count": 5,
   "metadata": {},
   "outputs": [
    {
     "data": {
      "image/png": "[encoded data removed]",
      "text/plain": [
       "<Figure size 432x288 with 1 Axes>"
      ]
     },
     "metadata": {
      "needs_background": "light"
     },
     "output_type": "display_data"
    }
   ],
   "source": [
    "mergings = linkage(X.sort_values(by=['ARPU', 'Посещений', 'Пол']).values, method='complete')\n",
    "dendrogram(mergings, leaf_font_size=100, no_labels=True)\n",
    "plt.show()"
   ]
  },
  {
   "cell_type": "markdown",
   "metadata": {},
   "source": [
    "### Подтверждается разбиение на 2-4 основных кластера:\n",
    "\n",
    "* разбивка на 2 кластера по ARPU (метод K-Means для нестандартизированных данных)\n",
    "\n",
    "\n",
    "* разбивка на 3 кластера (3 разных сценарии посещения бара клиентами: редкое посещение (1,18 раз) с ARPU 1513 руб; более частое посещение (1,88 раз) с ARPU 5034 руб; частое посещение большой компанией - 3,65 раз с ARPU 12442 руб в месяц). Использовался метод K-Means для нестандартизированных данных.\n",
    "\n",
    "\n",
    "* Вместо 2-х кластеров считаем целесообразным использовать разбивку на 4 кластера, которыая учитывает пол клиентов (м/ж) и день недели посещения (сб - для мужчин, пт - для девушек). Кластеры получены методом K-Means для нормализованных данных."
   ]
  }
 ],
 "metadata": {
  "kernelspec": {
   "display_name": "Python 3",
   "language": "python",
   "name": "python3"
  },
  "language_info": {
   "codemirror_mode": {
    "name": "ipython",
    "version": 3
   },
   "file_extension": ".py",
   "mimetype": "text/x-python",
   "name": "python",
   "nbconvert_exporter": "python",
   "pygments_lexer": "ipython3",
   "version": "3.7.4"
  }
 },
 "nbformat": 4,
 "nbformat_minor": 2
}
