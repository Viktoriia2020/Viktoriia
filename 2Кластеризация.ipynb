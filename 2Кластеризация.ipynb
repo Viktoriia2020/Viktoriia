{
 "cells": [
  {
   "cell_type": "markdown",
   "metadata": {},
   "source": [
    "# Кластеризация предобработанных данных\n",
    "\n",
    "Данные: покупки клиентов бара в течение 1 месяца\n",
    "\n",
    "## Выводы:\n",
    "\n",
    "### 3 кластера отражают 3 разных сценария посещения бара (получены методом K-Means) в зависимости от количества посещений в месяц, состава компаниии, что отражается на доходности клиентов (ARPU)\n",
    "\n",
    "### 4 кластера образовались при жёстком разбиении по полу и дню недели посещения (week-end или нет). Получены методом K-Means для нормализованных данных."
   ]
  },
  {
   "cell_type": "code",
   "execution_count": 1,
   "metadata": {},
   "outputs": [],
   "source": [
    "import pandas as pd\n",
    "\n",
    "from itertools import cycle, islice\n",
    "\n",
    "import numpy as np\n",
    "import matplotlib.pyplot as plt\n",
    "from sklearn import datasets\n",
    "from sklearn.preprocessing import StandardScaler\n",
    "from sklearn.preprocessing import MinMaxScaler\n",
    "\n",
    "from sklearn.metrics import silhouette_score\n",
    "from sklearn.metrics.cluster import homogeneity_score\n",
    "from sklearn.metrics.cluster import completeness_score\n",
    "from sklearn.metrics.cluster import v_measure_score\n",
    "\n",
    "from sklearn.cluster import DBSCAN\n",
    "from sklearn.cluster import KMeans\n",
    "from sklearn.cluster import AgglomerativeClustering\n",
    "from sklearn.decomposition import PCA\n",
    "from sklearn.manifold import TSNE\n",
    "\n",
    "import warnings\n",
    "from sklearn.neighbors import kneighbors_graph\n",
    "\n",
    "from scipy.cluster.hierarchy import linkage, dendrogram"
   ]
  },
  {
   "cell_type": "code",
   "execution_count": 2,
   "metadata": {},
   "outputs": [],
   "source": [
    "df10=pd.read_excel('Data_Sept2019.xlsx')"
   ]
  },
  {
   "cell_type": "code",
   "execution_count": 3,
   "metadata": {},
   "outputs": [
    {
     "data": {
      "text/plain": [
       "(15577, 35)"
      ]
     },
     "execution_count": 3,
     "metadata": {},
     "output_type": "execute_result"
    }
   ],
   "source": [
    "X=df10\n",
    "X.shape"
   ]
  },
  {
   "cell_type": "code",
   "execution_count": 4,
   "metadata": {},
   "outputs": [],
   "source": [
    "#Будем работать с тремя вариантами входных данных: исходных X, стандартизированных X1 и нормализованных X2:\n",
    "X1 = StandardScaler().fit_transform(X)\n",
    "X2 = MinMaxScaler().fit_transform(X)"
   ]
  },
  {
   "cell_type": "markdown",
   "metadata": {},
   "source": [
    "## 1. Оцениваем число кластеров с помощью Метода локтя и Алгоритма DBSCAN"
   ]
  },
  {
   "cell_type": "code",
   "execution_count": 5,
   "metadata": {},
   "outputs": [
    {
     "data": {
      "image/png": "[encoded data removed]",
      "text/plain": [
       "<Figure size 432x288 with 1 Axes>"
      ]
     },
     "metadata": {
      "needs_background": "light"
     },
     "output_type": "display_data"
    }
   ],
   "source": [
    "sse = {}\n",
    "for k in range(1, 10):\n",
    "    kmeans = KMeans(n_clusters=k, max_iter=1000).fit(X)\n",
    "    X[\"clusters\"] = kmeans.labels_\n",
    "    sse[k] = kmeans.inertia_ # Inertia: Sum of distances of samples to their closest cluster center\n",
    "plt.figure()\n",
    "plt.plot(list(sse.keys()), list(sse.values()))\n",
    "plt.xlabel(\"Number of cluster\")\n",
    "plt.ylabel(\"SSE\")\n",
    "plt.show()"
   ]
  },
  {
   "cell_type": "markdown",
   "metadata": {},
   "source": [
    "1. МЕТОД ЛОКТЯ показывает, что после 4-х кластеров дальнейшая сегментация не даёт существенного уменьшения SSE (суммы квадратов ошибок до центра кластера).\n",
    "\n",
    "\n",
    "2. Для DBSCAN создаём список с вариантами параметра eps и перебираем этот параметр в цикле.\n",
    "    Смотрим, в каком случае коэффициент силуэта максимальный с приемлемым количеством выбросов.\n",
    "\n",
    "    Используем X2 = MinMaxScaler().fit_transform(X)\n",
    "\n",
    "    При eps=0.7 алгоритм DBSCAN выдаёт 2 примерно одинаковых кластера (коэф.силуэта = 0.5892, выбросов 100 наблюдений из 15577).\n",
    "\n",
    "    В качестве метрики выбираем Коэф.силуэта, т.к. мы не располагаем размеченными данными\n",
    "\n",
    "### Итак, предварительно рассматриваем версию разбиения на 2-4 кластера. "
   ]
  },
  {
   "cell_type": "code",
   "execution_count": 6,
   "metadata": {},
   "outputs": [
    {
     "name": "stdout",
     "output_type": "stream",
     "text": [
      "[0.1, 0.15, 0.2, 0.25, 0.3, 0.35, 0.4, 0.45, 0.5, 0.55, 0.6, 0.65, 0.7, 0.75, 0.8, 0.85, 0.9, 0.95]\n"
     ]
    }
   ],
   "source": [
    "param=[]\n",
    "for x in range(1,10):\n",
    "    param.append(x/10)\n",
    "    param.append(round(x/10+0.05,2))\n",
    "print(param)"
   ]
  },
  {
   "cell_type": "code",
   "execution_count": 7,
   "metadata": {},
   "outputs": [
    {
     "data": {
      "text/plain": [
       "0.7"
      ]
     },
     "execution_count": 7,
     "metadata": {},
     "output_type": "execute_result"
    }
   ],
   "source": [
    "param[12]"
   ]
  },
  {
   "cell_type": "code",
   "execution_count": 8,
   "metadata": {},
   "outputs": [
    {
     "name": "stdout",
     "output_type": "stream",
     "text": [
      "eps  0.65 0.5889171856978148\n",
      "[-1  0  1]\n",
      "[ 134 7935 7508]\n",
      "eps  0.7 0.5891135536681107\n",
      "[-1  0  1]\n",
      "[ 100 7956 7521]\n"
     ]
    }
   ],
   "source": [
    "for i in param[11:13]:\n",
    "    \n",
    "    dbscan = DBSCAN(eps=i, min_samples=100)\n",
    "    dbscan.fit(X2)\n",
    "    y_pred = dbscan.labels_.astype(np.int)\n",
    "    s=silhouette_score(X=X2, labels=y_pred, metric='euclidean')\n",
    "    print('eps ', i, s)\n",
    "    \n",
    "    counts = np.unique(y_pred, return_counts=True)\n",
    "    for count in counts: \n",
    "        print(count, end='\\n')"
   ]
  },
  {
   "cell_type": "markdown",
   "metadata": {},
   "source": [
    "### Строим график для разбиения на 2 кластера"
   ]
  },
  {
   "cell_type": "code",
   "execution_count": 9,
   "metadata": {},
   "outputs": [
    {
     "name": "stdout",
     "output_type": "stream",
     "text": [
      "0.5891135536681107\n",
      "[-1  0  1] [ 100 7956 7521] "
     ]
    }
   ],
   "source": [
    "dbscan = DBSCAN(eps=0.7, min_samples=100)\n",
    "dbscan.fit(X2)\n",
    "y_pred = dbscan.labels_.astype(np.int)\n",
    "s=silhouette_score(X=X2, labels=y_pred, metric='euclidean')\n",
    "print(s)\n",
    "    \n",
    "counts = np.unique(y_pred, return_counts=True)\n",
    "for count in counts: \n",
    "    print(count, end=' ')"
   ]
  },
  {
   "cell_type": "code",
   "execution_count": 10,
   "metadata": {},
   "outputs": [
    {
     "data": {
      "text/plain": [
       "<matplotlib.collections.PathCollection at 0x2a208b64fc8>"
      ]
     },
     "execution_count": 10,
     "metadata": {},
     "output_type": "execute_result"
    },
    {
     "data": {
      "image/png": "[encoded data removed]",
      "text/plain": [
       "<Figure size 432x288 with 1 Axes>"
      ]
     },
     "metadata": {},
     "output_type": "display_data"
    }
   ],
   "source": [
    "#plt.subplot(f'23{i}')\n",
    "plt.xticks([]); plt.yticks([])\n",
    "colors = np.array(list(islice(cycle(['#377eb8', '#ff7f00', '#4daf4a',\n",
    "                                         '#f781bf', '#a65628', '#984ea3',\n",
    "                                         '#999999', '#e41a1c', '#dede00', \n",
    "                                     '#b8377e', '#7eb837', '#373eb8', '#37b8b2', '#b8b237', '#b87137' ]),\n",
    "                                  int(max(y_pred) + 1))))\n",
    "# чёрным цветом отметим выбросы\n",
    "colors = np.append(colors, [\"#000000\"])\n",
    "plt.scatter(X2[:, 0], X2[:, 1], color=colors[y_pred])"
   ]
  },
  {
   "cell_type": "markdown",
   "metadata": {},
   "source": [
    "## 2. Методами снижения размерности размещаем стандартизированные наблюдения на двумерной плоскости и визуализируем кластеры"
   ]
  },
  {
   "cell_type": "code",
   "execution_count": 11,
   "metadata": {},
   "outputs": [
    {
     "data": {
      "text/plain": [
       "(15577, 2)"
      ]
     },
     "execution_count": 11,
     "metadata": {},
     "output_type": "execute_result"
    }
   ],
   "source": [
    "pca = PCA(n_components = 2)\n",
    "dec = pca.fit_transform(X1)\n",
    "dec.shape"
   ]
  },
  {
   "cell_type": "code",
   "execution_count": 12,
   "metadata": {},
   "outputs": [
    {
     "data": {
      "text/plain": [
       "(15577, 2)"
      ]
     },
     "execution_count": 12,
     "metadata": {},
     "output_type": "execute_result"
    }
   ],
   "source": [
    "X_embedded = TSNE(n_components=2).fit_transform(X1)\n",
    "X_embedded.shape"
   ]
  },
  {
   "cell_type": "code",
   "execution_count": 13,
   "metadata": {},
   "outputs": [
    {
     "data": {
      "image/png": "[encoded data removed]",
      "text/plain": [
       "<Figure size 432x288 with 6 Axes>"
      ]
     },
     "metadata": {},
     "output_type": "display_data"
    }
   ],
   "source": [
    "# создаём массив пар – датасета и соответствующих для него параметров алгоритма\n",
    "datasets_params_list = [\n",
    "    (dec, {'n_clusters': 2}),\n",
    "    (dec, {'n_clusters': 3}),\n",
    "    (dec, {'n_clusters': 4}),\n",
    "    (X_embedded, {'n_clusters': 2}),\n",
    "    (X_embedded, {'n_clusters': 3}),\n",
    "    (X_embedded, {'n_clusters': 4})]\n",
    "\n",
    "for i, (X, k_means_params) in enumerate(datasets_params_list, start=1):\n",
    "    X = StandardScaler().fit_transform(X)\n",
    "    k_means = KMeans(n_clusters=k_means_params['n_clusters'])\n",
    "    \n",
    "    k_means.fit(X)\n",
    "    y_pred = k_means.labels_.astype(np.int)\n",
    "\n",
    "    plt.subplot(f'23{i}')\n",
    "    plt.xticks([]); plt.yticks([])\n",
    "    colors = np.array(list(islice(cycle(['#377eb8', '#ff7f00', '#4daf4a',\n",
    "                                         '#f781bf', '#a65628', '#984ea3',\n",
    "                                         '#999999', '#e41a1c', '#dede00']),\n",
    "                                  int(max(y_pred) + 1))))\n",
    "    plt.scatter(X[:, 0], X[:, 1], color=colors[y_pred])"
   ]
  },
  {
   "cell_type": "markdown",
   "metadata": {},
   "source": [
    "1. Метод главных компонент PCA в сочетании с K-Means выдает разные по объему кластеры\n",
    "2. Метод TSNE в сочетании с алгоритмом K-Means разбивает наблюдения примерно на равные по объему кластеры"
   ]
  },
  {
   "cell_type": "code",
   "execution_count": 14,
   "metadata": {},
   "outputs": [],
   "source": [
    "#break"
   ]
  },
  {
   "cell_type": "markdown",
   "metadata": {},
   "source": [
    "## 3. Для получения центров кластеризации используем KMeans\n",
    "\n",
    "Определим количество кластеров перебором значений от 2 до 8. Вычисляем коэф.силуэта.\n",
    "\n",
    "### 3.1. Для нестандартизированных данных X:\n",
    "* При 2-х кластерах коэф.силуэта максимальный (0.715)\n",
    "* При 3-х 0.648\n",
    "* При 4-х 0.610\n",
    "\n",
    "Определяем центры получившихся 2-х кластеров, а также центры получившихся 3-х кластеров."
   ]
  },
  {
   "cell_type": "code",
   "execution_count": 15,
   "metadata": {},
   "outputs": [],
   "source": [
    "#Для обучения модели K-means необходимо вызвать метод fit, передав входным параметром признаки объектов датасета:\n",
    "#k_means.fit(X)\n",
    "\n",
    "#Обучив, мы можем получить центроиды кластеров:\n",
    "#k_means.cluster_centers_\n",
    "\n",
    "#И узнать, в какой кластер попал каждый из объектов:\n",
    "#k_means.labels_"
   ]
  },
  {
   "cell_type": "code",
   "execution_count": 16,
   "metadata": {},
   "outputs": [],
   "source": [
    "df10=pd.read_excel('Data_Sept2019.xlsx')\n",
    "X=df10\n",
    "\n",
    "scaler1 = StandardScaler()\n",
    "X1 = scaler1.fit_transform(X)\n",
    "\n",
    "scaler2 = MinMaxScaler()\n",
    "X2 = scaler2.fit_transform(X)"
   ]
  },
  {
   "cell_type": "code",
   "execution_count": 17,
   "metadata": {},
   "outputs": [
    {
     "name": "stdout",
     "output_type": "stream",
     "text": [
      "число кластеров  2 0.7149871007837191\n",
      "число кластеров  3 0.647593852232516\n",
      "число кластеров  4 0.6096901470552134\n",
      "число кластеров  5 0.5826602502884427\n",
      "число кластеров  6 0.5694280582533625\n",
      "число кластеров  7 0.5635673919460457\n",
      "число кластеров  8 0.5549235208209898\n"
     ]
    }
   ],
   "source": [
    "for i in range(2,9):\n",
    "    kmeans = KMeans(n_clusters=i, random_state=42)\n",
    "    kmeans.fit(X)\n",
    "    kmeans_pred = kmeans.labels_\n",
    "    s=silhouette_score(X=X, labels=kmeans_pred, metric='euclidean')\n",
    "    print('число кластеров ', i, s)"
   ]
  },
  {
   "cell_type": "code",
   "execution_count": 18,
   "metadata": {},
   "outputs": [
    {
     "name": "stdout",
     "output_type": "stream",
     "text": [
      "[0 1] [13476  2101]                             0        1\n",
      "К-во                 13476.00  2101.00\n",
      "Пол                      0.50     0.58\n",
      "ARPU                  1895.43  8026.80\n",
      "Посещений                1.25     2.57\n",
      "Коктейли для друзей      0.41     2.37\n",
      "Акции                    0.40     1.99\n",
      "Лонги                    1.01     3.71\n",
      "Пиво для друзей          0.46     1.77\n",
      "Пиво до 1л               1.83     5.09\n",
      "Сеты                     1.19     6.29\n",
      "Наборы на компанию       0.46     1.58\n",
      "Горячие блюда            0.41     1.47\n",
      "Горячие напитки          0.06     0.20\n",
      "Кальяны                  0.19     0.76\n",
      "Снэки                    0.46     1.31\n",
      "Соусы, хлеб              0.18     0.61\n",
      "Холодные напитки         0.28     1.39\n",
      "Крепкий алкоголь         0.45     3.01\n",
      "Роллы                    0.23     0.79\n",
      "Пицца                    0.13     0.44\n",
      "Супы                     0.03     0.09\n",
      "Стритфуд                 0.17     0.62\n",
      "Десерты                  0.05     0.16\n",
      "Салаты                   0.10     0.32\n",
      "Вино 125 мл              0.08     0.24\n",
      "Вино                     0.09     0.32\n",
      "Прочее                   0.02     0.08\n",
      "Напитки TO GO            0.02     0.05\n",
      "Бизнес-ланч              0.01     0.06\n",
      "1                        0.16     0.29\n",
      "2                        0.13     0.25\n",
      "3                        0.13     0.25\n",
      "4                        0.14     0.25\n",
      "5                        0.19     0.39\n",
      "6                        0.25     0.59\n",
      "7                        0.26     0.55\n",
      "\n",
      "\n",
      "[0 1 2] [ 3610   566 11401]                            0         1         2\n",
      "К-во                 3610.00    566.00  11401.00\n",
      "Пол                     0.55      0.62      0.50\n",
      "ARPU                 5024.79  12442.15   1510.25\n",
      "Посещений               1.88      3.65      1.18\n",
      "Коктейли для друзей     1.42      3.60      0.29\n",
      "Акции                   1.25      3.14      0.29\n",
      "Лонги                   2.49      5.22      0.83\n",
      "Пиво для друзей         1.11      2.98      0.37\n",
      "Пиво до 1л              3.41      7.97      1.62\n",
      "Сеты                    3.77      9.70      0.89\n",
      "Наборы на компанию      1.12      2.27      0.37\n",
      "Горячие блюда           0.96      2.20      0.35\n",
      "Горячие напитки         0.13      0.31      0.06\n",
      "Кальяны                 0.52      1.14      0.15\n",
      "Снэки                   0.91      1.89      0.41\n",
      "Соусы, хлеб             0.39      0.95      0.15\n",
      "Холодные напитки        0.82      2.18      0.22\n",
      "Крепкий алкоголь        1.57      5.18      0.33\n",
      "Роллы                   0.53      1.14      0.20\n",
      "Пицца                   0.31      0.59      0.11\n",
      "Супы                    0.06      0.14      0.03\n",
      "Стритфуд                0.39      1.02      0.14\n",
      "Десерты                 0.11      0.22      0.04\n",
      "Салаты                  0.22      0.49      0.08\n",
      "Вино 125 мл             0.16      0.37      0.07\n",
      "Вино                    0.20      0.49      0.08\n",
      "Прочее                  0.05      0.14      0.02\n",
      "Напитки TO GO           0.02      0.12      0.02\n",
      "Бизнес-ланч             0.02      0.16      0.01\n",
      "1                       0.21      0.45      0.15\n",
      "2                       0.19      0.38      0.13\n",
      "3                       0.17      0.39      0.12\n",
      "4                       0.19      0.38      0.13\n",
      "5                       0.30      0.52      0.17\n",
      "6                       0.42      0.80      0.23\n",
      "7                       0.40      0.73      0.24\n",
      "\n",
      "\n",
      "[0 1 2 3] [4343 1352 9637  245]                            0        1        2         3\n",
      "К-во                 4343.00  1352.00  9637.00    245.00\n",
      "Пол                     0.53     0.58     0.49      0.61\n",
      "ARPU                 3688.13  7652.67  1264.64  15659.99\n",
      "Посещений               1.61     2.45     1.13      4.54\n",
      "Коктейли для друзей     0.96     2.25     0.22      4.61\n",
      "Акции                   0.92     1.92     0.21      3.85\n",
      "Лонги                   1.85     3.56     0.72      6.55\n",
      "Пиво для друзей         0.87     1.68     0.31      3.70\n",
      "Пиво до 1л              2.73     4.77     1.50     10.38\n",
      "Сеты                    2.63     6.02     0.69     12.27\n",
      "Наборы на компанию      0.87     1.55     0.31      2.80\n",
      "Горячие блюда           0.74     1.40     0.30      2.75\n",
      "Горячие напитки         0.09     0.18     0.06      0.40\n",
      "Кальяны                 0.40     0.75     0.12      1.21\n",
      "Снэки                   0.71     1.30     0.38      2.27\n",
      "Соусы, хлеб             0.31     0.54     0.13      1.28\n",
      "Холодные напитки        0.56     1.32     0.19      2.75\n",
      "Крепкий алкоголь        1.02     2.75     0.26      6.97\n",
      "Роллы                   0.41     0.75     0.17      1.39\n",
      "Пицца                   0.23     0.43     0.10      0.68\n",
      "Супы                    0.05     0.08     0.03      0.21\n",
      "Стритфуд                0.31     0.61     0.12      1.18\n",
      "Десерты                 0.08     0.17     0.03      0.23\n",
      "Салаты                  0.17     0.30     0.07      0.61\n",
      "Вино 125 мл             0.12     0.23     0.06      0.43\n",
      "Вино                    0.15     0.30     0.07      0.57\n",
      "Прочее                  0.03     0.09     0.01      0.13\n",
      "Напитки TO GO           0.02     0.04     0.02      0.20\n",
      "Бизнес-ланч             0.02     0.02     0.01      0.34\n",
      "1                       0.19     0.27     0.15      0.56\n",
      "2                       0.16     0.22     0.12      0.47\n",
      "3                       0.14     0.24     0.12      0.51\n",
      "4                       0.17     0.25     0.13      0.48\n",
      "5                       0.26     0.37     0.16      0.62\n",
      "6                       0.34     0.56     0.22      0.98\n",
      "7                       0.33     0.53     0.24      0.92\n",
      "\n",
      "\n"
     ]
    }
   ],
   "source": [
    "for i in range(2,5):\n",
    "\n",
    "    df10=pd.read_excel('Data_Sept2019.xlsx')\n",
    "    X=df10\n",
    "\n",
    "    kmeans = KMeans(n_clusters=i, random_state=42)\n",
    "    kmeans.fit(X)\n",
    "    a=kmeans.cluster_centers_\n",
    "\n",
    "    #в какой кластер попал каждый из объектов:\n",
    "    b=kmeans.labels_\n",
    "\n",
    "    #Для подсчёта элементов в списке можно воспользоваться функцией numpy.unique с параметром return_counts=True:\n",
    "\n",
    "    counts = np.unique(b, return_counts=True)\n",
    "    for count in counts:\n",
    "        print(count, end=' ')\n",
    "    \n",
    "    feature_names=df10.columns.tolist()\n",
    "    for element in feature_names:\n",
    "        if element=='Кластер K-means':\n",
    "            df10=df10.drop(element, axis='columns')\n",
    "\n",
    "    feature_names=df10.columns\n",
    "    featureImportance=pd.DataFrame(np.round(a, 2)) \n",
    "    featureImportance.columns=feature_names\n",
    "\n",
    "    df10['Кластер K-means']=df10.apply(lambda x: 0) \n",
    "\n",
    "    for number, i in enumerate(b):\n",
    "        df10.loc[[number],'Кластер K-means']=i\n",
    "\n",
    "    for number, i in enumerate(count):\n",
    "        featureImportance.loc[[number],'К-во']=i\n",
    "    \n",
    "    list=[]\n",
    "    list.append(featureImportance.columns[-1])\n",
    "    for i in feature_names:\n",
    "        list.append(i)\n",
    "    \n",
    "    featureImportance=featureImportance[list].T\n",
    "    print(featureImportance)\n",
    "    print('\\n')"
   ]
  },
  {
   "cell_type": "markdown",
   "metadata": {},
   "source": [
    "### Итак, методом K-Means для нестандартизированных данных X получаем 2, 3, 4 кластера. Кластеры отличаются по кол-ву посещений и ARPU\n",
    "\n",
    "#### При разбиении на 2 кластера средние цифры выглядят так:\n",
    "\n",
    "* 1-й кластер (13476 клиентов): Посещений 1,25 раз в месяц и ARPU 1895 руб. Пол: поровну мужчин и девушек.\n",
    "\n",
    "* 2-й кластер (2101 клиент): Посещений 2,57 раз в месяц и ARPU 8027 руб. Пол: чаще мужчины, чем девушки. \n",
    "Во 2-м кластере посещений на 1 человека в 2 раза больше, при этом непропорционально больше заказывается \"Коктейлей для друзей\"\n",
    "(куда входят 3 порции), Лонгов (=коктейлей), Пива для друзей (3 порции в наборе), Крепкий алкоголь и холодные напитки \n",
    "(к нему же), Сетов. \n",
    "Это более компанейский вариант посещения.\n",
    "\n",
    "\n",
    "#### При разбиении на 3 кластера средние цифры выглядят так:\n",
    "\n",
    "Основная масса клиентов попала в кластер 3. Сосредоточим своё внимание на более высокодоходных клиентах из кластеров 1 и 2.\n",
    "Средние цифры выглядят так:\n",
    "\n",
    "* 1-й кластер (3610 клиентов): Посещений 1,88 раз в месяц и ARPU 5025 руб. Пол: почти поровну мужчин и девушек.\n",
    "\n",
    "* 2-й кластер (566 клиентов) самый высокодоходный: Посещений 3,65 раз в месяц и ARPU 12442 руб. Пол: чаще мужчины, чем девушки. \n",
    "Во 2-м кластере посещений на 1 человека в 2 раза больше, чем в 1-м, при этом непропорционально больше заказывается Сетов (алкогольных), Крепкого алкоголя и Холодных напитков к ним. А также напитков TO GO и Бизнес-Ланчей. \n",
    "Это наиболее компанейский вариант посещения, который возможен даже в дневное время (на что указывают Бизнес-Ланчи).\n",
    "\n",
    "* 3-й кластер (11401 клиент): Посещений 1,18 раз в месяц и ARPU 1510 руб. Пол: поровну мужчин и девушек.\n",
    "\n",
    "##### В целом, данное разбиение на 3 кластера видится обоснованным. Он отражает 3 разных сценария посещения бара.\n",
    "\n",
    "\n",
    "#### Разбиение на 4 кластера приведено справочно.\n",
    "\n",
    "\n",
    "\n",
    "###  3.2. Теперь сделаем кластеризацию стандартизированных данных X1\n",
    "\n",
    "Число кластеров при переборе ограничим от 2-х до 4."
   ]
  },
  {
   "cell_type": "code",
   "execution_count": 19,
   "metadata": {},
   "outputs": [],
   "source": [
    "df10=pd.read_excel('Data_Sept2019.xlsx')\n",
    "X=df10\n",
    "\n",
    "scaler1 = StandardScaler()\n",
    "X1 = scaler1.fit_transform(X)\n",
    "\n",
    "scaler2 = MinMaxScaler()\n",
    "X2 = scaler2.fit_transform(X)"
   ]
  },
  {
   "cell_type": "code",
   "execution_count": 20,
   "metadata": {},
   "outputs": [
    {
     "name": "stdout",
     "output_type": "stream",
     "text": [
      "число кластеров  2 0.4071073610883552\n",
      "число кластеров  3 0.3987183781909582\n",
      "число кластеров  4 0.23856164975916871\n"
     ]
    }
   ],
   "source": [
    "for i in range(2,5):\n",
    "    kmeans = KMeans(n_clusters=i, random_state=42)\n",
    "    kmeans.fit(X1)\n",
    "    kmeans_pred = kmeans.labels_\n",
    "    s=silhouette_score(X=X1, labels=kmeans_pred, metric='euclidean')\n",
    "    print('число кластеров ', i, s)"
   ]
  },
  {
   "cell_type": "code",
   "execution_count": 21,
   "metadata": {},
   "outputs": [
    {
     "name": "stdout",
     "output_type": "stream",
     "text": [
      "[0 1] [ 2061 13516] "
     ]
    }
   ],
   "source": [
    "kmeansS = KMeans(n_clusters=2, random_state=42)\n",
    "kmeansS.fit(X1)\n",
    "aS=kmeansS.cluster_centers_\n",
    "\n",
    "#в какой кластер попал каждый из объектов:\n",
    "bS=kmeansS.labels_\n",
    "\n",
    "#Для подсчёта элементов в списке можно воспользоваться функцией numpy.unique с параметром return_counts=True:\n",
    "\n",
    "counts = np.unique(bS, return_counts=True)\n",
    "for count in counts:\n",
    "    print(count, end=' ')"
   ]
  },
  {
   "cell_type": "markdown",
   "metadata": {},
   "source": [
    "* Метод K-Means для стандартизированных данных X1 выдал 2 кластера с максимальным коэф.силуэта 0.4071. Нас это не устраивает.\n",
    "\n",
    "### 3.3. Применим K-Means для нормализованных данных X2:\n",
    "\n",
    "несмотря на неубедительные коэф.силуэта, кластеризация происходит с жёсткой разбивкой по полу (м/ж), что представляет интерес.\n"
   ]
  },
  {
   "cell_type": "code",
   "execution_count": 22,
   "metadata": {},
   "outputs": [
    {
     "name": "stdout",
     "output_type": "stream",
     "text": [
      "число кластеров  2 0.5874937870542654\n",
      "число кластеров  3 0.3862716109232294\n",
      "число кластеров  4 0.19262425213800471\n"
     ]
    }
   ],
   "source": [
    "for i in range(2,5):\n",
    "    kmeans = KMeans(n_clusters=i, random_state=42)\n",
    "    kmeans.fit(X2)\n",
    "    kmeans_pred = kmeans.labels_\n",
    "    s=silhouette_score(X=X2, labels=kmeans_pred, metric='euclidean')\n",
    "    print('число кластеров ', i, s)"
   ]
  },
  {
   "cell_type": "code",
   "execution_count": 23,
   "metadata": {},
   "outputs": [
    {
     "name": "stdout",
     "output_type": "stream",
     "text": [
      "[0 1] [8016 7561]                            0        1\n",
      "К-во                 8016.00  7561.00\n",
      "Пол                     1.00     0.00\n",
      "ARPU                 2868.34  2567.72\n",
      "Посещений               1.48     1.39\n",
      "Коктейли для друзей     0.61     0.74\n",
      "Акции                   0.66     0.57\n",
      "Лонги                   1.11     1.65\n",
      "Пиво для друзей         0.81     0.45\n",
      "Пиво до 1л              2.56     1.96\n",
      "Сеты                    2.05     1.69\n",
      "Наборы на компанию      0.66     0.57\n",
      "Горячие блюда           0.55     0.56\n",
      "Горячие напитки         0.09     0.08\n",
      "Кальяны                 0.26     0.28\n",
      "Снэки                   0.58     0.58\n",
      "Соусы, хлеб             0.23     0.24\n",
      "Холодные напитки        0.47     0.39\n",
      "Крепкий алкоголь        0.99     0.58\n",
      "Роллы                   0.23     0.39\n",
      "Пицца                   0.16     0.18\n",
      "Супы                    0.04     0.04\n",
      "Стритфуд                0.25     0.21\n",
      "Десерты                 0.04     0.08\n",
      "Салаты                  0.10     0.15\n",
      "Вино 125 мл             0.08     0.12\n",
      "Вино                    0.09     0.16\n",
      "Прочее                  0.03     0.02\n",
      "Напитки TO GO           0.02     0.02\n",
      "Бизнес-ланч             0.02     0.02\n",
      "1                       0.18     0.17\n",
      "2                       0.15     0.15\n",
      "3                       0.15     0.13\n",
      "4                       0.16     0.15\n",
      "5                       0.21     0.22\n",
      "6                       0.30     0.28\n",
      "7                       0.32     0.27\n",
      "\n",
      "\n",
      "[0 1 2] [7561 2180 5836]                            0        1        2\n",
      "К-во                 7561.00  2180.00  5836.00\n",
      "Пол                     0.00     1.00     1.00\n",
      "ARPU                 2567.72  3862.94  2496.82\n",
      "Посещений               1.39     1.85     1.33\n",
      "Коктейли для друзей     0.74     0.89     0.50\n",
      "Акции                   0.57     0.43     0.75\n",
      "Лонги                   1.65     1.55     0.94\n",
      "Пиво для друзей         0.45     1.12     0.69\n",
      "Пиво до 1л              1.96     3.23     2.31\n",
      "Сеты                    1.69     2.84     1.76\n",
      "Наборы на компанию      0.57     0.84     0.59\n",
      "Горячие блюда           0.56     0.70     0.49\n",
      "Горячие напитки         0.08     0.11     0.08\n",
      "Кальяны                 0.28     0.37     0.21\n",
      "Снэки                   0.58     0.67     0.54\n",
      "Соусы, хлеб             0.24     0.28     0.21\n",
      "Холодные напитки        0.39     0.64     0.40\n",
      "Крепкий алкоголь        0.58     1.31     0.87\n",
      "Роллы                   0.39     0.30     0.20\n",
      "Пицца                   0.18     0.21     0.14\n",
      "Супы                    0.04     0.05     0.04\n",
      "Стритфуд                0.21     0.29     0.24\n",
      "Десерты                 0.08     0.05     0.04\n",
      "Салаты                  0.15     0.11     0.10\n",
      "Вино 125 мл             0.12     0.10     0.07\n",
      "Вино                    0.16     0.11     0.08\n",
      "Прочее                  0.02     0.05     0.02\n",
      "Напитки TO GO           0.02     0.03     0.02\n",
      "Бизнес-ланч             0.02     0.01     0.03\n",
      "1                       0.17     0.11     0.21\n",
      "2                       0.15     0.09     0.17\n",
      "3                       0.13     0.09     0.17\n",
      "4                       0.15     0.09     0.18\n",
      "5                       0.22     0.16     0.23\n",
      "6                       0.28     1.11     0.00\n",
      "7                       0.27     0.21     0.36\n",
      "\n",
      "\n",
      "[0 1 2 3] [5576 5836 2180 1985]                            0        1        2        3\n",
      "К-во                 5576.00  5836.00  2180.00  1985.00\n",
      "Пол                     0.00     1.00     1.00    -0.00\n",
      "ARPU                 2261.59  2496.82  3862.94  3427.66\n",
      "Посещений               1.28     1.33     1.85     1.67\n",
      "Коктейли для друзей     0.62     0.50     0.89     1.06\n",
      "Акции                   0.63     0.75     0.43     0.38\n",
      "Лонги                   1.43     0.94     1.55     2.28\n",
      "Пиво для друзей         0.42     0.69     1.12     0.55\n",
      "Пиво до 1л              1.82     2.31     3.23     2.34\n",
      "Сеты                    1.38     1.76     2.84     2.53\n",
      "Наборы на компанию      0.52     0.59     0.84     0.72\n",
      "Горячие блюда           0.52     0.49     0.70     0.69\n",
      "Горячие напитки         0.07     0.08     0.11     0.11\n",
      "Кальяны                 0.25     0.21     0.37     0.38\n",
      "Снэки                   0.54     0.54     0.67     0.69\n",
      "Соусы, хлеб             0.23     0.21     0.28     0.27\n",
      "Холодные напитки        0.35     0.40     0.64     0.52\n",
      "Крепкий алкоголь        0.49     0.87     1.31     0.84\n",
      "Роллы                   0.37     0.20     0.30     0.47\n",
      "Пицца                   0.16     0.14     0.21     0.24\n",
      "Супы                    0.04     0.04     0.05     0.05\n",
      "Стритфуд                0.20     0.24     0.29     0.25\n",
      "Десерты                 0.07     0.04     0.05     0.12\n",
      "Салаты                  0.14     0.10     0.11     0.17\n",
      "Вино 125 мл             0.11     0.07     0.10     0.16\n",
      "Вино                    0.14     0.08     0.11     0.20\n",
      "Прочее                  0.02     0.02     0.05     0.03\n",
      "Напитки TO GO           0.02     0.02     0.03     0.04\n",
      "Бизнес-ланч             0.02     0.03     0.01     0.01\n",
      "1                       0.20     0.21     0.11     0.09\n",
      "2                       0.17     0.17     0.09     0.07\n",
      "3                       0.16     0.17     0.09     0.07\n",
      "4                       0.18     0.18     0.09     0.07\n",
      "5                       0.26     0.23     0.16     0.11\n",
      "6                       0.00     0.00     1.11     1.08\n",
      "7                       0.31     0.36     0.21     0.18\n",
      "\n",
      "\n"
     ]
    }
   ],
   "source": [
    "for i in range(2,5):\n",
    "    \n",
    "    df10=pd.read_excel('Data_Sept2019.xlsx')\n",
    "    X=df10\n",
    "    scaler2 = MinMaxScaler()\n",
    "    X2 = scaler2.fit_transform(X)\n",
    "    \n",
    "    kmeansM = KMeans(n_clusters=i, random_state=42)\n",
    "    kmeansM.fit(X2)\n",
    "    aM=kmeansM.cluster_centers_\n",
    "    aM2=scaler2.inverse_transform(aM)\n",
    "    #ВАЖНО: ОБРАТНОЕ ПРЕОБРАЗОВАНИЕ\n",
    "\n",
    "    #в какой кластер попал каждый из объектов:\n",
    "    bM=kmeansM.labels_\n",
    "\n",
    "    #Для подсчёта элементов в списке можно воспользоваться функцией numpy.unique с параметром return_counts=True:\n",
    "\n",
    "    counts = np.unique(bM, return_counts=True)\n",
    "    for count in counts:\n",
    "        print(count, end=' ')\n",
    "        \n",
    "    feature_names=df10.columns.tolist()\n",
    "    for element in feature_names:\n",
    "        if element=='Кластер K-means':\n",
    "            df10=df10.drop(element, axis='columns')\n",
    "\n",
    "    feature_names=df10.columns\n",
    "    featureImportance=pd.DataFrame(np.round(aM2, 2)) \n",
    "    featureImportance.columns=feature_names\n",
    "\n",
    "    df10['Кластер K-means']=df10.apply(lambda x: 0) \n",
    "\n",
    "    for number, i in enumerate(bM):\n",
    "        df10.loc[[number],'Кластер K-means']=i\n",
    "\n",
    "    for number, i in enumerate(count):\n",
    "        featureImportance.loc[[number],'К-во']=i\n",
    "    \n",
    "    list=[]\n",
    "    list.append(featureImportance.columns[-1])\n",
    "    for i in feature_names:\n",
    "        list.append(i)\n",
    "    \n",
    "    featureImportance=featureImportance[list].T\n",
    "    print(featureImportance)\n",
    "    print('\\n')"
   ]
  },
  {
   "cell_type": "markdown",
   "metadata": {},
   "source": [
    "## Итак, методом K-Means для нормализованных данных X2 рассмотрим 4 кластера, отличающихся по полу (м/ж) и дню недели для посещения (сб).\n",
    "\n",
    "Средние цифры выглядят так:\n",
    "\n",
    "* Для мужчин (кластеры номер 2 и 3):\n",
    "\n",
    "Количество клиентов соответственно 5836 и 2180. \n",
    "За 1 месяц они в среднем тратят соответственно 2497 руб. за 1,33 посещений или же 3863 руб. за 1,85 посещений.\n",
    "Клиенты с более высокими расходами непропорционально больше заказывают \"Коктейли для друзей\" (3 порции в одном наборе), Кальянов; меньше подпадают под Акции и меньше заказывают Бизнес-Ланчей. Это сценарий посещения в прайм-тайм в календарную субботу (это может быть также ночное время пт/сб и сб/вс).\n",
    "\n",
    "* Рассмотрим кластеры, которые сформированы девушками (номер 1 и 4):\n",
    "\n",
    "Количество клиентов соответственно 5576 и 1985. \n",
    "За 1 месяц они в среднем тратят соответственно 2262 руб. за 1,28 посещений или же 3428 руб. за 1,67 посещений.\n",
    "Клиенты с более высокими расходами непропорционально больше заказывают \"Коктейли для друзей\" (3 порции в одном наборе), Сеты (на компанию), Крепкий алкоголь, Десерты, Напитки TO GO (с собой); меньше подпадают под Акции. Это сценарий посещения в прайм-тайм в календарную субботу (это может быть также ночное время пт/сб и сб/вс).\n",
    "\n",
    "* Если дополнительно рассмотреть разбиение на только 2 кластера (также жёсткое по полу м/ж), то можно видеть, что  у девушек выше спрос на вино, лонги (коктейли), роллы, салаты и десерты по сравнению с мужчинами, и меньше интерес к крепкому алкоголю и \"пиву для друзей\". \n",
    "\n",
    "## В целом, данное разбиение на 4 кластера видится обоснованным\n",
    "\n",
    "\n",
    "\n",
    "## 4. Теперь посмотрим результаты Агломеративной кластеризации.\n",
    "\n",
    "Максимальные коэф.силуэта без матрицы смежности / с матрицей смежности соответствуют разбиению на 2 кластера.\n",
    "\n",
    "## По Агломеративной кластеризации код закомментирован, т.к. долго отрабатывается"
   ]
  },
  {
   "cell_type": "code",
   "execution_count": 24,
   "metadata": {},
   "outputs": [],
   "source": [
    "df10=pd.read_excel('Data_Sept2019.xlsx')\n",
    "X=df10\n",
    "\n",
    "scaler1 = StandardScaler()\n",
    "X1 = scaler1.fit_transform(X)\n",
    "\n",
    "scaler2 = MinMaxScaler()\n",
    "X2 = scaler2.fit_transform(X)"
   ]
  },
  {
   "cell_type": "code",
   "execution_count": 25,
   "metadata": {},
   "outputs": [],
   "source": [
    "list=[X,X1,X2]"
   ]
  },
  {
   "cell_type": "code",
   "execution_count": 26,
   "metadata": {},
   "outputs": [
    {
     "name": "stdout",
     "output_type": "stream",
     "text": [
      "Для массива X\n",
      "число кластеров  2 0.734307884682819\n",
      "число кластеров  3 0.6005100182126275\n",
      "число кластеров  4 0.6101046799983515\n",
      "число кластеров с матрицей смежности  2 0.734307884682819\n",
      "число кластеров с матрицей смежности  3 0.5138113171394809\n",
      "число кластеров с матрицей смежности  4 0.5180033383507094\n",
      "\n",
      "\n",
      "Для массива X1\n",
      "число кластеров  2 0.2398044034961178\n",
      "число кластеров  3 0.23847395393998883\n",
      "число кластеров  4 0.23253928465410917\n",
      "число кластеров с матрицей смежности  2 0.21399748982003344\n",
      "число кластеров с матрицей смежности  3 0.17114248605192586\n",
      "число кластеров с матрицей смежности  4 0.17147325880243158\n",
      "\n",
      "\n",
      "Для массива X2\n",
      "число кластеров  2 0.5874251001605947\n",
      "число кластеров  3 0.3859901515001356\n",
      "число кластеров  4 0.19505963438721918\n",
      "число кластеров с матрицей смежности  2 0.012857824587063785\n",
      "число кластеров с матрицей смежности  3 -0.08266696011439133\n",
      "число кластеров с матрицей смежности  4 -0.10341466843314706\n",
      "\n",
      "\n"
     ]
    }
   ],
   "source": [
    "for number, j in enumerate(list):\n",
    "    \n",
    "    if number==0:\n",
    "        print('Для массива X')     \n",
    "    elif number==1:\n",
    "        print('Для массива X1')\n",
    "    else:\n",
    "        print('Для массива X2')\n",
    "    \n",
    "    for i in range(2,5):\n",
    "        ac1 = AgglomerativeClustering(n_clusters=i,\n",
    "                             affinity='euclidean', # “euclidean”, “l1”, “l2”, “manhattan”, \n",
    "                                                   # “cosine”, or “precomputed”\n",
    "                             linkage='ward', # “ward”, “complete”, “average”, “single”\n",
    "                            )\n",
    "        with warnings.catch_warnings():\n",
    "            warnings.filterwarnings(\n",
    "            \"ignore\",\n",
    "                message=\"the number of connected components of the \" +\n",
    "            \"connectivity matrix is [0-9]{1,2}\" +\n",
    "            \" > 1. Completing it to avoid stopping the tree early.\",\n",
    "                category=UserWarning)\n",
    "            ac1.fit(j)\n",
    "        y_pred1 = ac1.labels_.astype(np.int)\n",
    "        s=silhouette_score(X=j, labels=y_pred1, metric='euclidean')\n",
    "            \n",
    "        print('число кластеров ', i, s)\n",
    "    \n",
    "    # строим матрицу смежности\n",
    "    # делаем матрицу смежности симметричной\n",
    "\n",
    "    connectivity = kneighbors_graph(X, n_neighbors=6, include_self=False)\n",
    "    connectivity = 0.5 * (connectivity + connectivity.T)\n",
    "\n",
    "    for i in range(2,5):\n",
    "        ac1 = AgglomerativeClustering(n_clusters=i,\n",
    "                             affinity='euclidean', # “euclidean”, “l1”, “l2”, “manhattan”, \n",
    "                                                   # “cosine”, or “precomputed”\n",
    "                             linkage='ward', connectivity=connectivity \n",
    "                            )\n",
    "        with warnings.catch_warnings():\n",
    "            warnings.filterwarnings(\n",
    "            \"ignore\",\n",
    "                message=\"the number of connected components of the \" +\n",
    "            \"connectivity matrix is [0-9]{1,2}\" +\n",
    "            \" > 1. Completing it to avoid stopping the tree early.\",\n",
    "                category=UserWarning)\n",
    "            ac1.fit(j)\n",
    "        y_pred1 = ac1.labels_.astype(np.int)\n",
    "        s=silhouette_score(X=j, labels=y_pred1, metric='euclidean')\n",
    "        print('число кластеров с матрицей смежности ', i, s)\n",
    "    print('\\n')"
   ]
  },
  {
   "cell_type": "markdown",
   "metadata": {},
   "source": [
    "## 5. Иерархическая кластеризация \n",
    "\n",
    "## По Иерархической кластеризации код закомментирован, т.к. долго отрабатывается\n",
    "\n",
    "* Для нестандартизированных данных X получили 2-4 кластера."
   ]
  },
  {
   "cell_type": "code",
   "execution_count": 27,
   "metadata": {},
   "outputs": [],
   "source": [
    "df10=pd.read_excel('Data_Sept2019.xlsx')\n",
    "X=df10\n",
    "\n",
    "scaler1 = StandardScaler()\n",
    "X1 = scaler1.fit_transform(X)\n",
    "\n",
    "scaler2 = MinMaxScaler()\n",
    "X2 = scaler2.fit_transform(X)"
   ]
  },
  {
   "cell_type": "code",
   "execution_count": 28,
   "metadata": {},
   "outputs": [
    {
     "data": {
      "image/png": "[encoded data removed]",
      "text/plain": [
       "<Figure size 432x288 with 1 Axes>"
      ]
     },
     "metadata": {
      "needs_background": "light"
     },
     "output_type": "display_data"
    }
   ],
   "source": [
    "mergings=linkage(X.sort_values(by=['ARPU', 'Посещений', 'Пол']).values, method='complete')\n",
    "dendrogram(mergings, leaf_font_size=100)\n",
    "plt.show()"
   ]
  },
  {
   "cell_type": "markdown",
   "metadata": {},
   "source": [
    "### Подтверждается разбиение на 2-4 основных кластера:\n",
    "\n",
    "* разбивка на 2 кластера по ARPU (метод K-Means для нестандартизированных данных)\n",
    "\n",
    "\n",
    "* разбивка на 3 кластера (3 разных сценарии посещения бара клиентами: редкое посещение (1,18 раз) с ARPU 1510 руб; более частое посещение (1,88 раз) с ARPU 5025 руб; частое посещение большой компанией - 3,65 раз с ARPU 12442 руб в месяц). Использовался метод K-Means для нестандартизированных данных.\n",
    "\n",
    "\n",
    "* Вместо 2-х кластеров считаем целесообразным использовать разбивку на 4 кластера, которыая учитывает пол клиентов (м/ж) и день недели посещения (week-end или нет). Кластеры получены методом K-Means для нормализованных данных."
   ]
  }
 ],
 "metadata": {
  "kernelspec": {
   "display_name": "Python 3",
   "language": "python",
   "name": "python3"
  },
  "language_info": {
   "codemirror_mode": {
    "name": "ipython",
    "version": 3
   },
   "file_extension": ".py",
   "mimetype": "text/x-python",
   "name": "python",
   "nbconvert_exporter": "python",
   "pygments_lexer": "ipython3",
   "version": "3.7.6"
  }
 },
 "nbformat": 4,
 "nbformat_minor": 2
}
